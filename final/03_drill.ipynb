{
 "cells": [
  {
   "cell_type": "code",
   "execution_count": 2,
   "metadata": {},
   "outputs": [
    {
     "name": "stdout",
     "output_type": "stream",
     "text": [
      "Note: you may need to restart the kernel to use updated packages.\n"
     ]
    }
   ],
   "source": [
    "####----Import library----####\n",
    "%pip install pydrill -q\n",
    "import pydrill"
   ]
  },
  {
   "cell_type": "code",
   "execution_count": 3,
   "metadata": {},
   "outputs": [
    {
     "name": "stdout",
     "output_type": "stream",
     "text": [
      "Drill connected\n"
     ]
    }
   ],
   "source": [
    "####----Connection to Drill----####????\n",
    "# import os\n",
    "# os.system('drillbit.sh start')\n",
    "# os.system('drill-embedded')\n",
    "# os.popen('drill-embedded')\n",
    "#!drill-embedded\n",
    "\n",
    "import os \n",
    "from subprocess import PIPE, Popen\n",
    "\n",
    "# create path to your username on hdfs\n",
    "# put csv into hdfs\n",
    "Popen([\"drill-embedded\"], stdin = PIPE, bufsize=-1).communicate()\n",
    "\n",
    "\n",
    "\n",
    "from pydrill.client import PyDrill\n",
    "\n",
    "drill = PyDrill(host='localhost', port=8047)\n",
    "#drill = PyDrill(auth='drill_user:drill_password')\n",
    "\n",
    "if not drill.is_active():\n",
    "    #raise ImproperlyConfigured('Please run Drill first')\n",
    "    print(\"Please run Drill\")\n",
    "else:\n",
    "    print(\"Drill connected\")"
   ]
  },
  {
   "cell_type": "code",
   "execution_count": 6,
   "metadata": {},
   "outputs": [
    {
     "data": {
      "text/plain": [
       "(None, None)"
      ]
     },
     "execution_count": 6,
     "metadata": {},
     "output_type": "execute_result"
    }
   ],
   "source": [
    "####----Copy existing Drill Table----####\n",
    "import os \n",
    "from subprocess import PIPE, Popen\n",
    "\n",
    "\n",
    "##Create path on HDFS\n",
    "import re\n",
    "import time\n",
    "hdfs_path = os.path.join(os.sep, 'user', 'centos', '/02_store/' + 'food')\n",
    "new_hdfs_path = hdfs_path + '_' + (time.strftime('%Y%m%d-%H%M%S'))\n",
    "\n",
    "\n",
    "##Copy database in HDFS\n",
    "cp_file = Popen([\"hdfs\", \"dfs\", \"-mv\", hdfs_path, new_hdfs_path], stdin=PIPE, bufsize=-1)\n",
    "cp_file.communicate()\n",
    "\n",
    "print('\\nDrill database copied and stored in hdfs://localhost:9000' + new_hdfs_path)"
   ]
  },
  {
   "cell_type": "code",
   "execution_count": 7,
   "metadata": {},
   "outputs": [],
   "source": [
    "####----Drop existing Drill Table----####\n",
    "#drill.query(\"\"\"DROP TABLE hdfs.food.`food`\"\"\")"
   ]
  },
  {
   "cell_type": "code",
   "execution_count": null,
   "metadata": {},
   "outputs": [],
   "source": [
    "####----Create Drill Table----####\n",
    "drill.query('''CREATE TABLE hdfs.food.`food` as \n",
    "(SELECT * FROM hdfs.food.`recipe*.json`)''')"
   ]
  },
  {
   "cell_type": "code",
   "execution_count": null,
   "metadata": {},
   "outputs": [],
   "source": [
    "result = drill.query('''SELECT * FROM hdfs.food.`food`''').to_dataframe()\n",
    "result.head()"
   ]
  },
  {
   "cell_type": "code",
   "execution_count": null,
   "metadata": {},
   "outputs": [],
   "source": []
  }
 ],
 "metadata": {
  "kernelspec": {
   "display_name": "Python 3",
   "language": "python",
   "name": "python3"
  },
  "language_info": {
   "codemirror_mode": {
    "name": "ipython",
    "version": 3
   },
   "file_extension": ".py",
   "mimetype": "text/x-python",
   "name": "python",
   "nbconvert_exporter": "python",
   "pygments_lexer": "ipython3",
   "version": "3.7.4"
  }
 },
 "nbformat": 4,
 "nbformat_minor": 2
}
