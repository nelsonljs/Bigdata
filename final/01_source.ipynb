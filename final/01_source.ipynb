{
 "cells": [
  {
   "cell_type": "code",
   "execution_count": 79,
   "metadata": {},
   "outputs": [
    {
     "name": "stdout",
     "output_type": "stream",
     "text": [
      "Directory changed to: /home/centos/BigData/01_source\n"
     ]
    }
   ],
   "source": [
    "####----Check correct working directory----####\n",
    "import os\n",
    "wd = os.getcwd()\n",
    "if(wd != '/home/centos/BigData/01_source/'):\n",
    "    from os import chdir\n",
    "    chdir(\"/home/centos/BigData/01_source/\")\n",
    "    print(\"Directory changed to: \" + wd)\n",
    "else:\n",
    "    print(\"Correct current directory: \" + wd)"
   ]
  },
  {
   "cell_type": "code",
   "execution_count": 93,
   "metadata": {},
   "outputs": [
    {
     "name": "stdout",
     "output_type": "stream",
     "text": [
      "No old files found\n",
      "No old files found\n"
     ]
    }
   ],
   "source": [
    "####----Delete old files----####\n",
    "for files in os.listdir(wd):\n",
    "    if files.endswith(\".json\"):\n",
    "        os.remove(os.path.join(wd, files))\n",
    "        print(\"Old .json files removed\")\n",
    "    if files.endswith(\".json.xz\"):\n",
    "        os.remove(os.path.join(wd, files))\n",
    "        print(\"Old .json.xz files removed\") \n",
    "    else:\n",
    "        print(\"No old files found\")"
   ]
  },
  {
   "cell_type": "code",
   "execution_count": 12,
   "metadata": {},
   "outputs": [
    {
     "name": "stdout",
     "output_type": "stream",
     "text": [
      "Beginning file download with urllib2...\n",
      "Downloading \"allrecipes-recipes_20191122-012310.json.xz\"...\n",
      "\n",
      "Download completed\n"
     ]
    }
   ],
   "source": [
    "####----Webscape / Retrieve data----####\n",
    "%pip install requests\n",
    "\n",
    "import urllib.request\n",
    "\n",
    "import re\n",
    "import time\n",
    "url = 'https://archive.org/download/recipes-en-201706/allrecipes-recipes.json.xz'\n",
    "filename = str(re.findall(r\"([^\\/]+)(?=\\.\\w+\\.\\w+$)\", url)[0]) + '_' + (time.strftime('%Y%m%d-%H%M%S')) + str(re.findall(r\"(\\.\\w+\\.\\w+$)\", url)[0])\n",
    "\n",
    "print('Beginning file download with urllib2...\\nDownloading \\\"' + filename + '\\\"...')\n",
    "\n",
    "urllib.request.urlretrieve(url, filename)\n",
    "\n",
    "print('\\nDownload completed and file stored in' + wd)"
   ]
  },
  {
   "cell_type": "code",
   "execution_count": 94,
   "metadata": {},
   "outputs": [
    {
     "ename": "OSError",
     "evalue": "tar exited with code 2",
     "output_type": "error",
     "traceback": [
      "\u001b[0;31m---------------------------------------------------------------------------\u001b[0m",
      "\u001b[0;31mOSError\u001b[0m                                   Traceback (most recent call last)",
      "\u001b[0;32m<ipython-input-94-a2c70285ceb1>\u001b[0m in \u001b[0;36m<module>\u001b[0;34m\u001b[0m\n\u001b[1;32m      9\u001b[0m     \u001b[0mprint\u001b[0m \u001b[0;34m(\u001b[0m\u001b[0;34m\"Extracted successfully\"\u001b[0m\u001b[0;34m)\u001b[0m\u001b[0;34m\u001b[0m\u001b[0;34m\u001b[0m\u001b[0m\n\u001b[1;32m     10\u001b[0m \u001b[0;32melse\u001b[0m\u001b[0;34m:\u001b[0m\u001b[0;34m\u001b[0m\u001b[0;34m\u001b[0m\u001b[0m\n\u001b[0;32m---> 11\u001b[0;31m     \u001b[0;32mraise\u001b[0m \u001b[0mIOError\u001b[0m\u001b[0;34m(\u001b[0m\u001b[0;34m'tar exited with code %d'\u001b[0m \u001b[0;34m%\u001b[0m \u001b[0mretcode\u001b[0m\u001b[0;34m)\u001b[0m\u001b[0;34m\u001b[0m\u001b[0;34m\u001b[0m\u001b[0m\n\u001b[0m",
      "\u001b[0;31mOSError\u001b[0m: tar exited with code 2"
     ]
    }
   ],
   "source": [
    "####----Unzip files----####\n",
    "#####?????????????????????To check for xz\n",
    "\n",
    "\n",
    "import subprocess\n",
    "retcode = subprocess.call(['tar', '-xvfz', '-C', filename])\n",
    "\n",
    "if retcode == 0:\n",
    "    print (\"Extracted successfully\")\n",
    "else:\n",
    "    raise IOError('tar exited with code %d' % retcode)"
   ]
  },
  {
   "cell_type": "code",
   "execution_count": 67,
   "metadata": {},
   "outputs": [
    {
     "data": {
      "text/plain": [
       "(None, None)"
      ]
     },
     "execution_count": 67,
     "metadata": {},
     "output_type": "execute_result"
    }
   ],
   "source": [
    "####----Upload file into HDFS----####\n",
    "import os \n",
    "from subprocess import PIPE, Popen\n",
    "\n",
    "unzipped_filename = str(re.findall(r\"([^\\/]+)(?=\\.\\w+\\.\\w+$)\", filename)[0]) +\".json\"\n",
    "\n",
    "#C#reate path to HDFS\n",
    "hdfs_path = os.path.join(os.sep, 'user', 'centos', '/01_raw/' + unzipped_filename)\n",
    "\n",
    "##Put files into HDFS\n",
    "put_file = Popen([\"hdfs\", \"dfs\", \"-put\", unzipped_filename, hdfs_path], stdin=PIPE, bufsize=-1)\n",
    "put_file.communicate()\n",
    "\n",
    "print('\\nUpload completed and file stored in hdfs://localhost:9000' + hdfs_path)"
   ]
  }
 ],
 "metadata": {
  "kernelspec": {
   "display_name": "Python 3",
   "language": "python",
   "name": "python3"
  },
  "language_info": {
   "codemirror_mode": {
    "name": "ipython",
    "version": 3
   },
   "file_extension": ".py",
   "mimetype": "text/x-python",
   "name": "python",
   "nbconvert_exporter": "python",
   "pygments_lexer": "ipython3",
   "version": "3.7.4"
  }
 },
 "nbformat": 4,
 "nbformat_minor": 2
}
